{
  "nbformat": 4,
  "nbformat_minor": 0,
  "metadata": {
    "colab": {
      "name": "point_to_point.ipynb",
      "provenance": [],
      "mount_file_id": "1zPl0yqT3-YYp76-6jqXyYXmn_X_MfhJr",
      "authorship_tag": "ABX9TyMpfBZlJ/hRXF/TEzmq0Jpv",
      "include_colab_link": true
    },
    "kernelspec": {
      "name": "python3",
      "display_name": "Python 3"
    },
    "language_info": {
      "name": "python"
    }
  },
  "cells": [
    {
      "cell_type": "markdown",
      "metadata": {
        "id": "view-in-github",
        "colab_type": "text"
      },
      "source": [
        "<a href=\"https://colab.research.google.com/github/amitPrakash121/point_cloud_registration/blob/main/point_to_point.ipynb\" target=\"_parent\"><img src=\"https://colab.research.google.com/assets/colab-badge.svg\" alt=\"Open In Colab\"/></a>"
      ]
    },
    {
      "cell_type": "code",
      "metadata": {
        "colab": {
          "base_uri": "https://localhost:8080/"
        },
        "id": "WAMxeZP5jhAj",
        "outputId": "7a785a7d-ee2c-402e-df8d-caad1308d01e"
      },
      "source": [
        "  from google.colab import drive\n",
        "drive.mount('/content/drive')"
      ],
      "execution_count": null,
      "outputs": [
        {
          "output_type": "stream",
          "text": [
            "Drive already mounted at /content/drive; to attempt to forcibly remount, call drive.mount(\"/content/drive\", force_remount=True).\n"
          ],
          "name": "stdout"
        }
      ]
    },
    {
      "cell_type": "markdown",
      "metadata": {
        "id": "bSm6YRHvJVQl"
      },
      "source": [
        "# Data Extraction from d455 - only x, y, z coordinates"
      ]
    },
    {
      "cell_type": "code",
      "metadata": {
        "id": "JpdzycsTjkLV"
      },
      "source": [
        " d455_file_path = '/content/drive/MyDrive/camera_data/D455/Point_Cloud_Textual.ply'"
      ],
      "execution_count": null,
      "outputs": []
    },
    {
      "cell_type": "code",
      "metadata": {
        "id": "1tZvuSxMvOfX"
      },
      "source": [
        "d455_file = open(d455_file_path, 'r')"
      ],
      "execution_count": null,
      "outputs": []
    },
    {
      "cell_type": "code",
      "metadata": {
        "id": "sr1HkdcYvnFk"
      },
      "source": [
        "for i in range(3):\n",
        "  line = d455_file.readline()"
      ],
      "execution_count": null,
      "outputs": []
    },
    {
      "cell_type": "code",
      "metadata": {
        "colab": {
          "base_uri": "https://localhost:8080/"
        },
        "id": "DuL1D1vEBuQr",
        "outputId": "12e93d13-afb7-4656-ffb2-e1d98981ebc2"
      },
      "source": [
        "line = d455_file.readline().strip()\n",
        "split_line = line.split(' ')\n",
        "split_line"
      ],
      "execution_count": null,
      "outputs": [
        {
          "output_type": "execute_result",
          "data": {
            "text/plain": [
              "['element', 'vertex', '91754']"
            ]
          },
          "metadata": {
            "tags": []
          },
          "execution_count": 5
        }
      ]
    },
    {
      "cell_type": "code",
      "metadata": {
        "colab": {
          "base_uri": "https://localhost:8080/"
        },
        "id": "Z3Q2YyLuCZpA",
        "outputId": "c2c8a117-49e5-4ccb-b88f-51c454bb46e3"
      },
      "source": [
        "no_vertices = int(split_line[2])\n",
        "no_vertices"
      ],
      "execution_count": null,
      "outputs": [
        {
          "output_type": "execute_result",
          "data": {
            "text/plain": [
              "91754"
            ]
          },
          "metadata": {
            "tags": []
          },
          "execution_count": 6
        }
      ]
    },
    {
      "cell_type": "code",
      "metadata": {
        "colab": {
          "base_uri": "https://localhost:8080/"
        },
        "id": "WKyAno-WvxLg",
        "outputId": "9fd898fa-05a0-4e8a-db76-f19d48fbbdb7"
      },
      "source": [
        "for i in range(12):\n",
        "  line = d455_file.readline()\n",
        "\n",
        "line"
      ],
      "execution_count": null,
      "outputs": [
        {
          "output_type": "execute_result",
          "data": {
            "application/vnd.google.colaboratory.intrinsic+json": {
              "type": "string"
            },
            "text/plain": [
              "'end_header\\n'"
            ]
          },
          "metadata": {
            "tags": []
          },
          "execution_count": 7
        }
      ]
    },
    {
      "cell_type": "code",
      "metadata": {
        "id": "D8R2aYOUG9Ot"
      },
      "source": [
        "import numpy as np"
      ],
      "execution_count": null,
      "outputs": []
    },
    {
      "cell_type": "code",
      "metadata": {
        "id": "JIhjnOiFPCAs"
      },
      "source": [
        "line = d455_file.readline()"
      ],
      "execution_count": null,
      "outputs": []
    },
    {
      "cell_type": "code",
      "metadata": {
        "id": "SmSur5NuL9XI"
      },
      "source": [
        "line_split = line.strip().split(' ')"
      ],
      "execution_count": null,
      "outputs": []
    },
    {
      "cell_type": "code",
      "metadata": {
        "colab": {
          "base_uri": "https://localhost:8080/"
        },
        "id": "lFH65cEiMH9p",
        "outputId": "2737c620-87bd-492c-e0af-636abb0bf0ce"
      },
      "source": [
        "line_split"
      ],
      "execution_count": null,
      "outputs": [
        {
          "output_type": "execute_result",
          "data": {
            "text/plain": [
              "['-1.75586', '1.07031', '-1.90234']"
            ]
          },
          "metadata": {
            "tags": []
          },
          "execution_count": 11
        }
      ]
    },
    {
      "cell_type": "code",
      "metadata": {
        "colab": {
          "base_uri": "https://localhost:8080/"
        },
        "id": "qGwJq8vGMRsw",
        "outputId": "1360a5bc-2e8f-4ed5-de15-a6f5731f560a"
      },
      "source": [
        "floats = [[float(i)] for i in line_split]\n",
        "floats"
      ],
      "execution_count": null,
      "outputs": [
        {
          "output_type": "execute_result",
          "data": {
            "text/plain": [
              "[[-1.75586], [1.07031], [-1.90234]]"
            ]
          },
          "metadata": {
            "tags": []
          },
          "execution_count": 12
        }
      ]
    },
    {
      "cell_type": "code",
      "metadata": {
        "colab": {
          "base_uri": "https://localhost:8080/"
        },
        "id": "hndIBmEUMbA-",
        "outputId": "55d86b85-d621-43f0-a2cb-d11e47cca081"
      },
      "source": [
        "d455_data = np.array(floats)\n",
        "d455_data.shape"
      ],
      "execution_count": null,
      "outputs": [
        {
          "output_type": "execute_result",
          "data": {
            "text/plain": [
              "(3, 1)"
            ]
          },
          "metadata": {
            "tags": []
          },
          "execution_count": 13
        }
      ]
    },
    {
      "cell_type": "code",
      "metadata": {
        "id": "gP1GGuL5v0y_"
      },
      "source": [
        "for i in range(no_vertices-1):\n",
        "\n",
        "  for j in range(2):\n",
        "    line = d455_file.readline()\n",
        "\n",
        "  line = d455_file.readline().strip()\n",
        "  line_split = line.split(' ')\n",
        "  floats = [[float(j)] for j in line_split]\n",
        "  new_data = np.array(floats)\n",
        "  d455_data = np.concatenate((d455_data, new_data), axis=1)   "
      ],
      "execution_count": null,
      "outputs": []
    },
    {
      "cell_type": "code",
      "metadata": {
        "colab": {
          "base_uri": "https://localhost:8080/"
        },
        "id": "EpSio6gKJy9V",
        "outputId": "5b025697-4a29-4495-847a-fc53e9540a20"
      },
      "source": [
        "d455_data[:,0], d455_data[:, 91753]"
      ],
      "execution_count": null,
      "outputs": [
        {
          "output_type": "execute_result",
          "data": {
            "text/plain": [
              "(array([-1.75586,  1.07031, -1.90234]),\n",
              " array([ 0.617676, -0.34668 , -0.610352]))"
            ]
          },
          "metadata": {
            "tags": []
          },
          "execution_count": 15
        }
      ]
    },
    {
      "cell_type": "code",
      "metadata": {
        "id": "q5Hj2miCaoA_"
      },
      "source": [
        "d455_file.close()"
      ],
      "execution_count": null,
      "outputs": []
    },
    {
      "cell_type": "markdown",
      "metadata": {
        "id": "EESZIoZMJ4mf"
      },
      "source": [
        "# L515 data extraction - only x, y, z coordinates"
      ]
    },
    {
      "cell_type": "code",
      "metadata": {
        "id": "EwcdXvLlJ37c"
      },
      "source": [
        "l515_file_path = '/content/drive/MyDrive/camera_data/L515/Point_cloud_textual.ply'"
      ],
      "execution_count": null,
      "outputs": []
    },
    {
      "cell_type": "code",
      "metadata": {
        "id": "wa7JLzJwv4Wm"
      },
      "source": [
        "l515_file = open(l515_file_path, 'r')"
      ],
      "execution_count": null,
      "outputs": []
    },
    {
      "cell_type": "code",
      "metadata": {
        "id": "nekijDxrv5Ym"
      },
      "source": [
        "for i in range(3):\n",
        "  line = l515_file.readline()"
      ],
      "execution_count": null,
      "outputs": []
    },
    {
      "cell_type": "code",
      "metadata": {
        "colab": {
          "base_uri": "https://localhost:8080/"
        },
        "id": "QVQ2Htp8bF4b",
        "outputId": "e83d988e-98d0-4222-b220-b1863a5a63df"
      },
      "source": [
        "line = l515_file.readline().strip()\n",
        "split_line = line.split(' ')\n",
        "split_line"
      ],
      "execution_count": null,
      "outputs": [
        {
          "output_type": "execute_result",
          "data": {
            "text/plain": [
              "['element', 'vertex', '254555']"
            ]
          },
          "metadata": {
            "tags": []
          },
          "execution_count": 20
        }
      ]
    },
    {
      "cell_type": "code",
      "metadata": {
        "colab": {
          "base_uri": "https://localhost:8080/"
        },
        "id": "QqpgcyZ_bSWr",
        "outputId": "d9043f34-ffbf-46ba-81d3-156e32944192"
      },
      "source": [
        "no_vertices = int(split_line[2])\n",
        "no_vertices"
      ],
      "execution_count": null,
      "outputs": [
        {
          "output_type": "execute_result",
          "data": {
            "text/plain": [
              "254555"
            ]
          },
          "metadata": {
            "tags": []
          },
          "execution_count": 21
        }
      ]
    },
    {
      "cell_type": "code",
      "metadata": {
        "colab": {
          "base_uri": "https://localhost:8080/"
        },
        "id": "U845L4XcbWf1",
        "outputId": "79cec433-7082-494a-cb58-65946320852a"
      },
      "source": [
        "for i in range(12):\n",
        "  line = l515_file.readline()\n",
        "\n",
        "line"
      ],
      "execution_count": null,
      "outputs": [
        {
          "output_type": "execute_result",
          "data": {
            "application/vnd.google.colaboratory.intrinsic+json": {
              "type": "string"
            },
            "text/plain": [
              "'end_header\\n'"
            ]
          },
          "metadata": {
            "tags": []
          },
          "execution_count": 22
        }
      ]
    },
    {
      "cell_type": "code",
      "metadata": {
        "id": "deRSe855bdK2"
      },
      "source": [
        "line = l515_file.readline()"
      ],
      "execution_count": null,
      "outputs": []
    },
    {
      "cell_type": "code",
      "metadata": {
        "id": "UFG_DFhNb86q"
      },
      "source": [
        "line_split = line.strip().split(' ')"
      ],
      "execution_count": null,
      "outputs": []
    },
    {
      "cell_type": "code",
      "metadata": {
        "colab": {
          "base_uri": "https://localhost:8080/"
        },
        "id": "hrYDXlzFcANL",
        "outputId": "bc18df0a-a232-48ba-ea76-aff778d1e23f"
      },
      "source": [
        "line_split"
      ],
      "execution_count": null,
      "outputs": [
        {
          "output_type": "execute_result",
          "data": {
            "text/plain": [
              "['-1.46191', '1.17969', '-2.12305']"
            ]
          },
          "metadata": {
            "tags": []
          },
          "execution_count": 25
        }
      ]
    },
    {
      "cell_type": "code",
      "metadata": {
        "colab": {
          "base_uri": "https://localhost:8080/"
        },
        "id": "-xVcdyE4cD3t",
        "outputId": "1eb7af5b-e232-4ec2-a78a-b345553c91d1"
      },
      "source": [
        "floats = [[float(i)] for i in line_split]\n",
        "floats"
      ],
      "execution_count": null,
      "outputs": [
        {
          "output_type": "execute_result",
          "data": {
            "text/plain": [
              "[[-1.46191], [1.17969], [-2.12305]]"
            ]
          },
          "metadata": {
            "tags": []
          },
          "execution_count": 26
        }
      ]
    },
    {
      "cell_type": "code",
      "metadata": {
        "colab": {
          "base_uri": "https://localhost:8080/"
        },
        "id": "mS0AGm7tcJMK",
        "outputId": "72e9a832-7d62-46bf-b640-ae5f2245bddd"
      },
      "source": [
        "l515_data = np.array(floats)\n",
        "l515_data.shape"
      ],
      "execution_count": null,
      "outputs": [
        {
          "output_type": "execute_result",
          "data": {
            "text/plain": [
              "(3, 1)"
            ]
          },
          "metadata": {
            "tags": []
          },
          "execution_count": 27
        }
      ]
    },
    {
      "cell_type": "code",
      "metadata": {
        "id": "sgKe-Hv7cNjr"
      },
      "source": [
        "for i in range(no_vertices-1):\n",
        "\n",
        "  for j in range(2):\n",
        "    line = l515_file.readline()\n",
        "\n",
        "  line = l515_file.readline().strip()\n",
        "  line_split = line.split(' ')\n",
        "  floats = [[float(j)] for j in line_split]\n",
        "  new_data = np.array(floats)\n",
        "  l515_data = np.concatenate((l515_data, new_data), axis=1)"
      ],
      "execution_count": null,
      "outputs": []
    },
    {
      "cell_type": "code",
      "metadata": {
        "colab": {
          "base_uri": "https://localhost:8080/"
        },
        "id": "QSRdXlcnclmi",
        "outputId": "f3d1d023-25d1-4511-c236-85c7dce13cbf"
      },
      "source": [
        "l515_data[:,0], l515_data[:, 254554]"
      ],
      "execution_count": null,
      "outputs": [
        {
          "output_type": "execute_result",
          "data": {
            "text/plain": [
              "(array([-1.46191,  1.17969, -2.12305]),\n",
              " array([-0.188477, -0.304443, -0.617188]))"
            ]
          },
          "metadata": {
            "tags": []
          },
          "execution_count": 29
        }
      ]
    },
    {
      "cell_type": "code",
      "metadata": {
        "colab": {
          "base_uri": "https://localhost:8080/"
        },
        "id": "ZEQmNnLEhv-U",
        "outputId": "2746542b-05f5-4039-eff6-3aa4692d2432"
      },
      "source": [
        "l515_data.shape"
      ],
      "execution_count": null,
      "outputs": [
        {
          "output_type": "execute_result",
          "data": {
            "text/plain": [
              "(3, 254555)"
            ]
          },
          "metadata": {
            "tags": []
          },
          "execution_count": 30
        }
      ]
    },
    {
      "cell_type": "code",
      "metadata": {
        "id": "cMq6uHPMgeni"
      },
      "source": [
        "l515_file.close()"
      ],
      "execution_count": null,
      "outputs": []
    },
    {
      "cell_type": "markdown",
      "metadata": {
        "id": "ccnAfg9vtvv2"
      },
      "source": [
        "# Define matching function"
      ]
    },
    {
      "cell_type": "code",
      "metadata": {
        "id": "ppDTdFz3tSR9"
      },
      "source": [
        "def matching(reading, reference):\n",
        "  match = []\n",
        "  for i in range(len(reading[0])):\n",
        "    dist = np.empty(0)\n",
        "    for j in range(len(reference[0])):\n",
        "      distance = ((reading[:,i][0] - reference[:,j][0])**2 +\n",
        "                  (reading[:,i][0] - reference[:,j][0])**2 +\n",
        "                  (reading[:,i][0] - reference[:,j][0])**2 )**0.5\n",
        "      dist = np.append(dist, distance)\n",
        "    \n",
        "    min_arg = np.argmin(dist)\n",
        "    match_list = [i, min_arg]\n",
        "    match.append(match_list)\n",
        "\n",
        "  return match\n"
      ],
      "execution_count": null,
      "outputs": []
    },
    {
      "cell_type": "code",
      "metadata": {
        "id": "r3JWQaUpyzrI"
      },
      "source": [
        "# Test matching - d455 reference, l515 reading\n",
        "#match1 = matching(l515_data, d455_data) ---- was not able to do due to large time taken"
      ],
      "execution_count": null,
      "outputs": []
    },
    {
      "cell_type": "code",
      "metadata": {
        "id": "2VvQ3urQzLV9"
      },
      "source": [
        "#match1.shape"
      ],
      "execution_count": null,
      "outputs": []
    },
    {
      "cell_type": "markdown",
      "metadata": {
        "id": "Q2lmxf-jLhpC"
      },
      "source": [
        "# Random subsampling of both point clouds to 10%"
      ]
    },
    {
      "cell_type": "markdown",
      "metadata": {
        "id": "QCLUU-gBwsR8"
      },
      "source": [
        "d455_data subsampling"
      ]
    },
    {
      "cell_type": "code",
      "metadata": {
        "colab": {
          "base_uri": "https://localhost:8080/"
        },
        "id": "nJxkNBL0M69h",
        "outputId": "93a62118-688d-435c-bccb-394bf30ff88e"
      },
      "source": [
        "sub_d455_data = d455_data[:,0]\n",
        "sub_d455_data.shape"
      ],
      "execution_count": null,
      "outputs": [
        {
          "output_type": "execute_result",
          "data": {
            "text/plain": [
              "(3,)"
            ]
          },
          "metadata": {
            "tags": []
          },
          "execution_count": 35
        }
      ]
    },
    {
      "cell_type": "code",
      "metadata": {
        "colab": {
          "base_uri": "https://localhost:8080/"
        },
        "id": "Vqu8quhKvUtY",
        "outputId": "1460e7ab-fc01-42bf-f433-c9c27ffeed1a"
      },
      "source": [
        "sub_d455_data = np.reshape(sub_d455_data, (3,1))\n",
        "sub_d455_data"
      ],
      "execution_count": null,
      "outputs": [
        {
          "output_type": "execute_result",
          "data": {
            "text/plain": [
              "array([[-1.75586],\n",
              "       [ 1.07031],\n",
              "       [-1.90234]])"
            ]
          },
          "metadata": {
            "tags": []
          },
          "execution_count": 36
        }
      ]
    },
    {
      "cell_type": "code",
      "metadata": {
        "id": "_dzmvNnduNwA"
      },
      "source": [
        "for i in range(10, len(d455_data[0]), 10):\n",
        "  temp = d455_data[:,i]\n",
        "  temp = np.reshape(temp, (3,1))\n",
        "  sub_d455_data = np.concatenate((sub_d455_data, temp), axis=1)"
      ],
      "execution_count": null,
      "outputs": []
    },
    {
      "cell_type": "code",
      "metadata": {
        "colab": {
          "base_uri": "https://localhost:8080/"
        },
        "id": "e6q77XT0u64V",
        "outputId": "26d64e11-a4a2-4e95-a9da-a52020fe821f"
      },
      "source": [
        "sub_d455_data.shape"
      ],
      "execution_count": null,
      "outputs": [
        {
          "output_type": "execute_result",
          "data": {
            "text/plain": [
              "(3, 9176)"
            ]
          },
          "metadata": {
            "tags": []
          },
          "execution_count": 38
        }
      ]
    },
    {
      "cell_type": "markdown",
      "metadata": {
        "id": "jgsql0uowxDF"
      },
      "source": [
        "l515_data subsampling"
      ]
    },
    {
      "cell_type": "code",
      "metadata": {
        "colab": {
          "base_uri": "https://localhost:8080/"
        },
        "id": "5iTybu7_w1V0",
        "outputId": "fa6107a4-09e4-45d7-d5f3-e8a6a6012cb6"
      },
      "source": [
        "sub_l515_data = l515_data[:,0]\n",
        "sub_l515_data.shape"
      ],
      "execution_count": null,
      "outputs": [
        {
          "output_type": "execute_result",
          "data": {
            "text/plain": [
              "(3,)"
            ]
          },
          "metadata": {
            "tags": []
          },
          "execution_count": 39
        }
      ]
    },
    {
      "cell_type": "code",
      "metadata": {
        "colab": {
          "base_uri": "https://localhost:8080/"
        },
        "id": "tQpsBICa7kAu",
        "outputId": "d8f4a941-11ca-4e2c-83c4-535d6e6adb4d"
      },
      "source": [
        "sub_l515_data = np.reshape(sub_l515_data, (3,1))\n",
        "sub_l515_data"
      ],
      "execution_count": null,
      "outputs": [
        {
          "output_type": "execute_result",
          "data": {
            "text/plain": [
              "array([[-1.46191],\n",
              "       [ 1.17969],\n",
              "       [-2.12305]])"
            ]
          },
          "metadata": {
            "tags": []
          },
          "execution_count": 40
        }
      ]
    },
    {
      "cell_type": "code",
      "metadata": {
        "id": "8V8_X7rW7j5d"
      },
      "source": [
        "for i in range(10, len(l515_data[0]), 10):\n",
        "  temp = l515_data[:,i]\n",
        "  temp = np.reshape(temp, (3,1))\n",
        "  sub_l515_data = np.concatenate((sub_l515_data, temp), axis=1)"
      ],
      "execution_count": null,
      "outputs": []
    },
    {
      "cell_type": "code",
      "metadata": {
        "colab": {
          "base_uri": "https://localhost:8080/"
        },
        "id": "0SUQQINw7jtO",
        "outputId": "ce91964d-c99a-49ca-cab2-05c56c025dc5"
      },
      "source": [
        "sub_l515_data.shape"
      ],
      "execution_count": null,
      "outputs": [
        {
          "output_type": "execute_result",
          "data": {
            "text/plain": [
              "(3, 25456)"
            ]
          },
          "metadata": {
            "tags": []
          },
          "execution_count": 42
        }
      ]
    },
    {
      "cell_type": "markdown",
      "metadata": {
        "id": "1P5x0C9-9--q"
      },
      "source": [
        "#  Transformation 1"
      ]
    },
    {
      "cell_type": "markdown",
      "metadata": {
        "id": "SDlW9lhG8NEU"
      },
      "source": [
        "Initial error"
      ]
    },
    {
      "cell_type": "markdown",
      "metadata": {
        "id": "kynFl1kM8cgu"
      },
      "source": [
        "d455 as reading and l515 as reference"
      ]
    },
    {
      "cell_type": "code",
      "metadata": {
        "id": "BOdi_8JO-RIM"
      },
      "source": [
        "Match = matching(sub_d455_data, sub_l515_data)"
      ],
      "execution_count": null,
      "outputs": []
    },
    {
      "cell_type": "code",
      "metadata": {
        "id": "HnFdq86B-iBj",
        "colab": {
          "base_uri": "https://localhost:8080/"
        },
        "outputId": "097dba51-dae2-47f0-b524-19792a239c71"
      },
      "source": [
        "Match"
      ],
      "execution_count": null,
      "outputs": [
        {
          "output_type": "execute_result",
          "data": {
            "text/plain": [
              "[[0, 978],\n",
              " [1, 978],\n",
              " [2, 978],\n",
              " [3, 978],\n",
              " [4, 978],\n",
              " [5, 52],\n",
              " [6, 315],\n",
              " [7, 896],\n",
              " [8, 107],\n",
              " [9, 809],\n",
              " [10, 162],\n",
              " [11, 322],\n",
              " [12, 3996],\n",
              " [13, 8718],\n",
              " [14, 4851],\n",
              " [15, 9751],\n",
              " [16, 6750],\n",
              " [17, 7906],\n",
              " [18, 2036],\n",
              " [19, 7658],\n",
              " [20, 11181],\n",
              " [21, 631],\n",
              " [22, 5876],\n",
              " [23, 14005],\n",
              " [24, 868],\n",
              " [25, 12344],\n",
              " [26, 6583],\n",
              " [27, 3143],\n",
              " [28, 1426],\n",
              " [29, 455],\n",
              " [30, 1240],\n",
              " [31, 1048],\n",
              " [32, 1987],\n",
              " [33, 359],\n",
              " [34, 1330],\n",
              " [35, 4428],\n",
              " [36, 978],\n",
              " [37, 978],\n",
              " [38, 978],\n",
              " [39, 978],\n",
              " [40, 978],\n",
              " [41, 756],\n",
              " [42, 315],\n",
              " [43, 896],\n",
              " [44, 107],\n",
              " [45, 319],\n",
              " [46, 162],\n",
              " [47, 322],\n",
              " [48, 4608],\n",
              " [49, 3044],\n",
              " [50, 5035],\n",
              " [51, 12950],\n",
              " [52, 11164],\n",
              " [53, 7842],\n",
              " [54, 2036],\n",
              " [55, 7658],\n",
              " [56, 11181],\n",
              " [57, 631],\n",
              " [58, 18484],\n",
              " [59, 14005],\n",
              " [60, 2601],\n",
              " [61, 12344],\n",
              " [62, 6583],\n",
              " [63, 3143],\n",
              " [64, 1426],\n",
              " [65, 455],\n",
              " [66, 1240],\n",
              " [67, 1048],\n",
              " [68, 1358],\n",
              " [69, 1695],\n",
              " [70, 96],\n",
              " [71, 49],\n",
              " [72, 4661],\n",
              " [73, 5902],\n",
              " [74, 7627],\n",
              " [75, 978],\n",
              " [76, 978],\n",
              " [77, 978],\n",
              " [78, 978],\n",
              " [79, 936],\n",
              " [80, 261],\n",
              " [81, 2330],\n",
              " [82, 571],\n",
              " [83, 666],\n",
              " [84, 762],\n",
              " [85, 110],\n",
              " [86, 3004],\n",
              " [87, 324],\n",
              " [88, 4261],\n",
              " [89, 5915],\n",
              " [90, 10393],\n",
              " [91, 14748],\n",
              " [92, 11939],\n",
              " [93, 7272],\n",
              " [94, 18283],\n",
              " [95, 22627],\n",
              " [96, 22067],\n",
              " [97, 492],\n",
              " [98, 2713],\n",
              " [99, 4404],\n",
              " [100, 781],\n",
              " [101, 4701],\n",
              " [102, 5948],\n",
              " [103, 4130],\n",
              " [104, 2240],\n",
              " [105, 1984],\n",
              " [106, 14850],\n",
              " [107, 1244],\n",
              " [108, 148],\n",
              " [109, 609],\n",
              " [110, 1958],\n",
              " [111, 2403],\n",
              " [112, 4486],\n",
              " [113, 7755],\n",
              " [114, 978],\n",
              " [115, 978],\n",
              " [116, 978],\n",
              " [117, 978],\n",
              " [118, 51],\n",
              " [119, 471],\n",
              " [120, 105],\n",
              " [121, 940],\n",
              " [122, 265],\n",
              " [123, 214],\n",
              " [124, 268],\n",
              " [125, 5905],\n",
              " [126, 5341],\n",
              " [127, 8593],\n",
              " [128, 8917],\n",
              " [129, 12888],\n",
              " [130, 3468],\n",
              " [131, 25036],\n",
              " [132, 14888],\n",
              " [133, 2223],\n",
              " [134, 14639],\n",
              " [135, 7344],\n",
              " [136, 19446],\n",
              " [137, 8884],\n",
              " [138, 1420],\n",
              " [139, 20926],\n",
              " [140, 5819],\n",
              " [141, 1613],\n",
              " [142, 3490],\n",
              " [143, 6142],\n",
              " [144, 1727],\n",
              " [145, 1620],\n",
              " [146, 558],\n",
              " [147, 1246],\n",
              " [148, 887],\n",
              " [149, 976],\n",
              " [150, 3696],\n",
              " [151, 5149],\n",
              " [152, 7627],\n",
              " [153, 978],\n",
              " [154, 978],\n",
              " [155, 978],\n",
              " [156, 978],\n",
              " [157, 978],\n",
              " [158, 314],\n",
              " [159, 895],\n",
              " [160, 423],\n",
              " [161, 619],\n",
              " [162, 715],\n",
              " [163, 4370],\n",
              " [164, 4783],\n",
              " [165, 6416],\n",
              " [166, 9678],\n",
              " [167, 5037],\n",
              " [168, 11352],\n",
              " [169, 19163],\n",
              " [170, 3382],\n",
              " [171, 14247],\n",
              " [172, 18155],\n",
              " [173, 282],\n",
              " [174, 17650],\n",
              " [175, 3390],\n",
              " [176, 2978],\n",
              " [177, 591],\n",
              " [178, 639],\n",
              " [179, 293],\n",
              " [180, 2759],\n",
              " [181, 2386],\n",
              " [182, 245],\n",
              " [183, 89],\n",
              " [184, 1874],\n",
              " [185, 1244],\n",
              " [186, 412],\n",
              " [187, 1551],\n",
              " [188, 705],\n",
              " [189, 1593],\n",
              " [190, 4603],\n",
              " [191, 6030],\n",
              " [192, 9035],\n",
              " [193, 978],\n",
              " [194, 978],\n",
              " [195, 978],\n",
              " [196, 978],\n",
              " [197, 1020],\n",
              " [198, 894],\n",
              " [199, 422],\n",
              " [200, 523],\n",
              " [201, 761],\n",
              " [202, 373],\n",
              " [203, 5027],\n",
              " [204, 6669],\n",
              " [205, 3290],\n",
              " [206, 11918],\n",
              " [207, 21516],\n",
              " [208, 10587],\n",
              " [209, 4563],\n",
              " [210, 5802],\n",
              " [211, 22248],\n",
              " [212, 5872],\n",
              " [213, 9391],\n",
              " [214, 4458],\n",
              " [215, 1786],\n",
              " [216, 8372],\n",
              " [217, 12664],\n",
              " [218, 2160],\n",
              " [219, 873],\n",
              " [220, 1388],\n",
              " [221, 1760],\n",
              " [222, 2425],\n",
              " [223, 1800],\n",
              " [224, 1657],\n",
              " [225, 251],\n",
              " [226, 464],\n",
              " [227, 1698],\n",
              " [228, 706],\n",
              " [229, 1405],\n",
              " [230, 2890],\n",
              " [231, 6285],\n",
              " [232, 978],\n",
              " [233, 978],\n",
              " [234, 978],\n",
              " [235, 978],\n",
              " [236, 978],\n",
              " [237, 756],\n",
              " [238, 315],\n",
              " [239, 106],\n",
              " [240, 107],\n",
              " [241, 525],\n",
              " [242, 621],\n",
              " [243, 428],\n",
              " [244, 7116],\n",
              " [245, 7312],\n",
              " [246, 6294],\n",
              " [247, 6746],\n",
              " [248, 2108],\n",
              " [249, 5735],\n",
              " [250, 120],\n",
              " [251, 1598],\n",
              " [252, 2558],\n",
              " [253, 22322],\n",
              " [254, 5940],\n",
              " [255, 3481],\n",
              " [256, 13111],\n",
              " [257, 1193],\n",
              " [258, 3101],\n",
              " [259, 2347],\n",
              " [260, 18305],\n",
              " [261, 9211],\n",
              " [262, 3832],\n",
              " [263, 1728],\n",
              " [264, 1987],\n",
              " [265, 795],\n",
              " [266, 2996],\n",
              " [267, 309],\n",
              " [268, 612],\n",
              " [269, 2217],\n",
              " [270, 3122],\n",
              " [271, 10185],\n",
              " [272, 978],\n",
              " [273, 978],\n",
              " [274, 978],\n",
              " [275, 978],\n",
              " [276, 978],\n",
              " [277, 1482],\n",
              " [278, 210],\n",
              " [279, 106],\n",
              " [280, 318],\n",
              " [281, 213],\n",
              " [282, 478],\n",
              " [283, 375],\n",
              " [284, 6542],\n",
              " [285, 6100],\n",
              " [286, 6677],\n",
              " [287, 7193],\n",
              " [288, 4677],\n",
              " [289, 15136],\n",
              " [290, 12134],\n",
              " [291, 11754],\n",
              " [292, 2558],\n",
              " [293, 7087],\n",
              " [294, 23018],\n",
              " [295, 18359],\n",
              " [296, 131],\n",
              " [297, 2981],\n",
              " [298, 3061],\n",
              " [299, 2347],\n",
              " [300, 2608],\n",
              " [301, 2314],\n",
              " [302, 457],\n",
              " [303, 2465],\n",
              " [304, 250],\n",
              " [305, 359],\n",
              " [306, 655],\n",
              " [307, 205],\n",
              " [308, 1328],\n",
              " [309, 4661],\n",
              " [310, 5902],\n",
              " [311, 7627],\n",
              " [312, 978],\n",
              " [313, 978],\n",
              " [314, 978],\n",
              " [315, 978],\n",
              " [316, 978],\n",
              " [317, 1],\n",
              " [318, 315],\n",
              " [319, 1022],\n",
              " [320, 160],\n",
              " [321, 108],\n",
              " [322, 374],\n",
              " [323, 4606],\n",
              " [324, 7756],\n",
              " [325, 8527],\n",
              " [326, 432],\n",
              " [327, 5918],\n",
              " [328, 9054],\n",
              " [329, 12962],\n",
              " [330, 18662],\n",
              " [331, 4337],\n",
              " [332, 5244],\n",
              " [333, 1070],\n",
              " [334, 9458],\n",
              " [335, 994],\n",
              " [336, 912],\n",
              " [337, 5817],\n",
              " [338, 735],\n",
              " [339, 1904],\n",
              " [340, 1723],\n",
              " [341, 2462],\n",
              " [342, 3029],\n",
              " [343, 13761],\n",
              " [344, 1244],\n",
              " [345, 2136],\n",
              " [346, 562],\n",
              " [347, 564],\n",
              " [348, 935],\n",
              " [349, 2071],\n",
              " [350, 6221],\n",
              " [351, 9419],\n",
              " [352, 978],\n",
              " [353, 978],\n",
              " [354, 978],\n",
              " [355, 978],\n",
              " [356, 155],\n",
              " [357, 420],\n",
              " [358, 211],\n",
              " [359, 523],\n",
              " [360, 265],\n",
              " [361, 574],\n",
              " [362, 4605],\n",
              " [363, 323],\n",
              " [364, 7055],\n",
              " [365, 5344],\n",
              " [366, 13907],\n",
              " [367, 5165],\n",
              " [368, 15326],\n",
              " [369, 11109],\n",
              " [370, 22056],\n",
              " [371, 3666],\n",
              " [372, 6065],\n",
              " [373, 6769],\n",
              " [374, 9459],\n",
              " [375, 12150],\n",
              " [376, 3723],\n",
              " [377, 1271],\n",
              " [378, 1080],\n",
              " [379, 3187],\n",
              " [380, 1238],\n",
              " [381, 695],\n",
              " [382, 196],\n",
              " [383, 1205],\n",
              " [384, 43],\n",
              " [385, 45],\n",
              " [386, 2584],\n",
              " [387, 100],\n",
              " [388, 1557],\n",
              " [389, 3746],\n",
              " [390, 6031],\n",
              " [391, 978],\n",
              " [392, 978],\n",
              " [393, 978],\n",
              " [394, 978],\n",
              " [395, 978],\n",
              " [396, 1216],\n",
              " [397, 315],\n",
              " [398, 370],\n",
              " [399, 853],\n",
              " [400, 667],\n",
              " [401, 7],\n",
              " [402, 3947],\n",
              " [403, 4845],\n",
              " [404, 4972],\n",
              " [405, 9492],\n",
              " [406, 4556],\n",
              " [407, 8094],\n",
              " [408, 9763],\n",
              " [409, 22437],\n",
              " [410, 4337],\n",
              " [411, 5244],\n",
              " [412, 337],\n",
              " [413, 3303],\n",
              " [414, 5687],\n",
              " [415, 18426],\n",
              " [416, 2049],\n",
              " [417, 135],\n",
              " [418, 6075],\n",
              " [419, 1121],\n",
              " [420, 245],\n",
              " [421, 89],\n",
              " [422, 1583],\n",
              " [423, 605],\n",
              " [424, 885],\n",
              " [425, 1248],\n",
              " [426, 310],\n",
              " [427, 366],\n",
              " [428, 2439],\n",
              " [429, 5337],\n",
              " [430, 9867],\n",
              " [431, 978],\n",
              " [432, 978],\n",
              " [433, 978],\n",
              " [434, 978],\n",
              " [435, 102],\n",
              " [436, 314],\n",
              " [437, 105],\n",
              " [438, 897],\n",
              " [439, 371],\n",
              " [440, 526],\n",
              " [441, 268],\n",
              " [442, 5905],\n",
              " [443, 7630],\n",
              " [444, 8594],\n",
              " [445, 12756],\n",
              " [446, 22292],\n",
              " [447, 2517],\n",
              " [448, 6120],\n",
              " [449, 10793],\n",
              " [450, 3666],\n",
              " [451, 24180],\n",
              " [452, 16627],\n",
              " [453, 9267],\n",
              " [454, 3349],\n",
              " [455, 686],\n",
              " [456, 5754],\n",
              " [457, 3534],\n",
              " [458, 1198],\n",
              " [459, 23278],\n",
              " [460, 1046],\n",
              " [461, 39],\n",
              " [462, 2954],\n",
              " [463, 1659],\n",
              " [464, 202],\n",
              " [465, 152],\n",
              " [466, 1328],\n",
              " [467, 4720],\n",
              " [468, 5461],\n",
              " [469, 9163],\n",
              " [470, 978],\n",
              " [471, 978],\n",
              " [472, 978],\n",
              " [473, 978],\n",
              " [474, 978],\n",
              " [475, 849],\n",
              " [476, 2],\n",
              " [477, 1022],\n",
              " [478, 160],\n",
              " [479, 372],\n",
              " [480, 527],\n",
              " [481, 5840],\n",
              " [482, 4785],\n",
              " [483, 9998],\n",
              " [484, 10708],\n",
              " [485, 6364],\n",
              " [486, 8735],\n",
              " [487, 5111],\n",
              " [488, 9896],\n",
              " [489, 22901],\n",
              " [490, 24035],\n",
              " [491, 2749],\n",
              " [492, 8306],\n",
              " [493, 7411],\n",
              " [494, 21436],\n",
              " [495, 998],\n",
              " [496, 3023],\n",
              " [497, 20866],\n",
              " [498, 2128],\n",
              " [499, 6461],\n",
              " [500, 3449],\n",
              " [501, 1471],\n",
              " [502, 1051],\n",
              " [503, 1436],\n",
              " [504, 2434],\n",
              " [505, 753],\n",
              " [506, 1776],\n",
              " [507, 3946],\n",
              " [508, 9866],\n",
              " [509, 978],\n",
              " [510, 978],\n",
              " [511, 978],\n",
              " [512, 978],\n",
              " [513, 978],\n",
              " [514, 1020],\n",
              " [515, 894],\n",
              " [516, 1178],\n",
              " [517, 318],\n",
              " [518, 213],\n",
              " [519, 1062],\n",
              " [520, 4723],\n",
              " [521, 10],\n",
              " [522, 7312],\n",
              " [523, 5097],\n",
              " [524, 6108],\n",
              " [525, 10397],\n",
              " [526, 5990],\n",
              " [527, 8295],\n",
              " [528, 21482],\n",
              " [529, 17006],\n",
              " [530, 20146],\n",
              " [531, 11315],\n",
              " [532, 10036],\n",
              " [533, 4879],\n",
              " [534, 1535],\n",
              " [535, 2419],\n",
              " [536, 3488],\n",
              " [537, 1003],\n",
              " [538, 2462],\n",
              " [539, 965],\n",
              " [540, 1204],\n",
              " [541, 357],\n",
              " [542, 95],\n",
              " [543, 562],\n",
              " [544, 417],\n",
              " [545, 2107],\n",
              " [546, 3746],\n",
              " [547, 6988],\n",
              " [548, 978],\n",
              " [549, 978],\n",
              " [550, 978],\n",
              " [551, 978],\n",
              " [552, 978],\n",
              " [553, 155],\n",
              " [554, 471],\n",
              " [555, 473],\n",
              " [556, 523],\n",
              " [557, 56],\n",
              " [558, 426],\n",
              " [559, 4782],\n",
              " [560, 5090],\n",
              " [561, 8653],\n",
              " [562, 9810],\n",
              " [563, 15060],\n",
              " [564, 6814],\n",
              " [565, 1023],\n",
              " [566, 24467],\n",
              " [567, 11498],\n",
              " [568, 7661],\n",
              " [569, 2671],\n",
              " [570, 13683],\n",
              " [571, 10420],\n",
              " [572, 184],\n",
              " [573, 1308],\n",
              " [574, 1156],\n",
              " [575, 5820],\n",
              " [576, 1043],\n",
              " [577, 552],\n",
              " [578, 5135],\n",
              " [579, 3933],\n",
              " [580, 1510],\n",
              " [581, 148],\n",
              " [582, 1625],\n",
              " [583, 310],\n",
              " [584, 614],\n",
              " [585, 2816],\n",
              " [586, 6285],\n",
              " [587, 9867],\n",
              " [588, 978],\n",
              " [589, 978],\n",
              " [590, 978],\n",
              " [591, 978],\n",
              " [592, 978],\n",
              " [593, 893],\n",
              " [594, 421],\n",
              " [595, 474],\n",
              " [596, 619],\n",
              " [597, 762],\n",
              " [598, 4370],\n",
              " [599, 112],\n",
              " [600, 5030],\n",
              " [601, 2626],\n",
              " [602, 8278],\n",
              " [603, 4675],\n",
              " [604, 8416],\n",
              " [605, 12452],\n",
              " [606, 17640],\n",
              " [607, 1744],\n",
              " [608, 10607],\n",
              " [609, 17459],\n",
              " [610, 15221],\n",
              " [611, 6708],\n",
              " [612, 913],\n",
              " [613, 1271],\n",
              " [614, 1866],\n",
              " [615, 11003],\n",
              " [616, 920],\n",
              " [617, 1046],\n",
              " [618, 649],\n",
              " [619, 1395],\n",
              " [620, 1659],\n",
              " [621, 45],\n",
              " [622, 1095],\n",
              " [623, 2363],\n",
              " [624, 1849],\n",
              " [625, 8585],\n",
              " [626, 9866],\n",
              " [627, 978],\n",
              " [628, 978],\n",
              " [629, 978],\n",
              " [630, 978],\n",
              " [631, 978],\n",
              " [632, 208],\n",
              " [633, 894],\n",
              " [634, 1178],\n",
              " [635, 318],\n",
              " [636, 213],\n",
              " [637, 1062],\n",
              " [638, 428],\n",
              " [639, 3996],\n",
              " [640, 7568],\n",
              " [641, 6614],\n",
              " [642, 11031],\n",
              " [643, 3611],\n",
              " [644, 14817],\n",
              " [645, 4062],\n",
              " [646, 4337],\n",
              " [647, 23064],\n",
              " [648, 3917],\n",
              " [649, 1416],\n",
              " [650, 4638],\n",
              " [651, 4404],\n",
              " [652, 1232],\n",
              " [653, 1611],\n",
              " [654, 33],\n",
              " [655, 3105],\n",
              " [656, 352],\n",
              " [657, 7165],\n",
              " [658, 1319],\n",
              " [659, 1206],\n",
              " [660, 1732],\n",
              " [661, 46],\n",
              " [662, 1882],\n",
              " [663, 1330],\n",
              " [664, 2965],\n",
              " [665, 10185],\n",
              " [666, 10315],\n",
              " [667, 978],\n",
              " [668, 978],\n",
              " [669, 978],\n",
              " [670, 978],\n",
              " [671, 1060],\n",
              " [672, 314],\n",
              " [673, 105],\n",
              " [674, 897],\n",
              " [675, 265],\n",
              " [676, 574],\n",
              " [677, 163],\n",
              " [678, 6669],\n",
              " [679, 5972],\n",
              " [680, 8147],\n",
              " [681, 7384],\n",
              " [682, 13018],\n",
              " [683, 18079],\n",
              " [684, 1180],\n",
              " [685, 21673],\n",
              " [686, 10669],\n",
              " [687, 11440],\n",
              " [688, 14387],\n",
              " [689, 8371],\n",
              " [690, 13111],\n",
              " [691, 1975],\n",
              " [692, 1683],\n",
              " [693, 7800],\n",
              " [694, 16960],\n",
              " [695, 788],\n",
              " [696, 17219],\n",
              " [697, 837],\n",
              " [698, 2134],\n",
              " [699, 607],\n",
              " [700, 1476],\n",
              " [701, 416],\n",
              " [702, 935],\n",
              " [703, 4311],\n",
              " [704, 6094],\n",
              " [705, 9163],\n",
              " [706, 978],\n",
              " [707, 978],\n",
              " [708, 978],\n",
              " [709, 978],\n",
              " [710, 978],\n",
              " [711, 52],\n",
              " [712, 521],\n",
              " [713, 1022],\n",
              " [714, 160],\n",
              " [715, 715],\n",
              " [716, 4257],\n",
              " [717, 5400],\n",
              " [718, 324],\n",
              " [719, 272],\n",
              " [720, 8533],\n",
              " [721, 16599],\n",
              " [722, 7264],\n",
              " [723, 21218],\n",
              " [724, 7273],\n",
              " [725, 8748],\n",
              " [726, 18608],\n",
              " [727, 17331],\n",
              " [728, 5373],\n",
              " [729, 8308],\n",
              " [730, 10743],\n",
              " [731, 546],\n",
              " [732, 829],\n",
              " [733, 831],\n",
              " [734, 6332],\n",
              " [735, 1468],\n",
              " [736, 1048],\n",
              " [737, 2954],\n",
              " [738, 305],\n",
              " [739, 1399],\n",
              " [740, 48],\n",
              " [741, 2962],\n",
              " [742, 2738],\n",
              " [743, 5274],\n",
              " [744, 9994],\n",
              " [745, 978],\n",
              " [746, 978],\n",
              " [747, 978],\n",
              " [748, 978],\n",
              " [749, 978],\n",
              " [750, 208],\n",
              " [751, 894],\n",
              " [752, 1178],\n",
              " [753, 318],\n",
              " [754, 525],\n",
              " [755, 162],\n",
              " [756, 322],\n",
              " [757, 5652],\n",
              " [758, 7057],\n",
              " [759, 12177],\n",
              " [760, 8985],\n",
              " [761, 10334],\n",
              " [762, 16226],\n",
              " [763, 20966],\n",
              " [764, 17195],\n",
              " [765, 23917],\n",
              " [766, 8624],\n",
              " [767, 3574],\n",
              " [768, 2156],\n",
              " [769, 496],\n",
              " [770, 1682],\n",
              " [771, 6201],\n",
              " [772, 8761],\n",
              " [773, 35],\n",
              " [774, 4241],\n",
              " [775, 1164],\n",
              " [776, 356],\n",
              " [777, 1548],\n",
              " [778, 654],\n",
              " [779, 2434],\n",
              " [780, 846],\n",
              " [781, 1997],\n",
              " [782, 3601],\n",
              " [783, 6413],\n",
              " [784, 978],\n",
              " [785, 978],\n",
              " [786, 978],\n",
              " [787, 978],\n",
              " [788, 978],\n",
              " [789, 978],\n",
              " [790, 615],\n",
              " [791, 2330],\n",
              " [792, 264],\n",
              " [793, 371],\n",
              " [794, 214],\n",
              " [795, 268],\n",
              " [796, 4906],\n",
              " [797, 6226],\n",
              " [798, 9553],\n",
              " [799, 6809],\n",
              " [800, 4499],\n",
              " [801, 4058],\n",
              " [802, 5994],\n",
              " [803, 7210],\n",
              " [804, 6318],\n",
              " [805, 3133],\n",
              " [806, 17652],\n",
              " [807, 3481],\n",
              " [808, 4817],\n",
              " [809, 133],\n",
              " [810, 2087],\n",
              " [811, 5820],\n",
              " [812, 1043],\n",
              " [813, 1315],\n",
              " [814, 4133],\n",
              " [815, 1088],\n",
              " [816, 699],\n",
              " [817, 412],\n",
              " [818, 1093],\n",
              " [819, 2773],\n",
              " [820, 1630],\n",
              " [821, 4256],\n",
              " [822, 6285],\n",
              " [823, 9227],\n",
              " [824, 978],\n",
              " [825, 978],\n",
              " [826, 978],\n",
              " [827, 978],\n",
              " [828, 978],\n",
              " [829, 709],\n",
              " [830, 711],\n",
              " [831, 896],\n",
              " [832, 853],\n",
              " [833, 108],\n",
              " [834, 7],\n",
              " [835, 3247],\n",
              " [836, 7117],\n",
              " [837, 7633],\n",
              " [838, 10644],\n",
              " [839, 6428],\n",
              " [840, 3609],\n",
              " [841, 22369],\n",
              " [842, 21159],\n",
              " [843, 22737],\n",
              " [844, 7022],\n",
              " [845, 14578],\n",
              " [846, 682],\n",
              " [847, 4461],\n",
              " [848, 12920],\n",
              " [849, 3825],\n",
              " [850, 2310],\n",
              " [851, 85],\n",
              " [852, 3681],\n",
              " [853, 2538],\n",
              " [854, 555],\n",
              " [855, 2954],\n",
              " [856, 305],\n",
              " [857, 413],\n",
              " [858, 1172],\n",
              " [859, 848],\n",
              " [860, 3417],\n",
              " [861, 6860],\n",
              " [862, 10059],\n",
              " [863, 978],\n",
              " [864, 978],\n",
              " [865, 978],\n",
              " [866, 978],\n",
              " [867, 978],\n",
              " [868, 52],\n",
              " [869, 315],\n",
              " [870, 1022],\n",
              " [871, 160],\n",
              " [872, 715],\n",
              " [873, 427],\n",
              " [874, 3004],\n",
              " [875, 5780],\n",
              " [876, 11213],\n",
              " [877, 6361],\n",
              " [878, 5476],\n",
              " [879, 14494],\n",
              " [880, 16100],\n",
              " [881, 21288],\n",
              " [882, 3431],\n",
              " [883, 16240],\n",
              " [884, 1340],\n",
              " [885, 493],\n",
              " [886, 2268],\n",
              " [887, 12344],\n",
              " [888, 1233],\n",
              " [889, 19392],\n",
              " [890, 1540],\n",
              " [891, 1200],\n",
              " [892, 4707],\n",
              " [893, 1508],\n",
              " [894, 1987],\n",
              " [895, 2956],\n",
              " [896, 703],\n",
              " [897, 1250],\n",
              " [898, 2588],\n",
              " [899, 6156],\n",
              " [900, 6860],\n",
              " [901, 10059],\n",
              " [902, 978],\n",
              " [903, 978],\n",
              " [904, 978],\n",
              " [905, 978],\n",
              " [906, 978],\n",
              " [907, 1216],\n",
              " [908, 315],\n",
              " [909, 1022],\n",
              " [910, 160],\n",
              " [911, 372],\n",
              " [912, 427],\n",
              " [913, 528],\n",
              " [914, 8204],\n",
              " [915, 10510],\n",
              " [916, 9045],\n",
              " [917, 10970],\n",
              " [918, 1294],\n",
              " [919, 19491],\n",
              " [920, 1026],\n",
              " [921, 1450],\n",
              " [922, 9007],\n",
              " [923, 2338],\n",
              " [924, 19767],\n",
              " [925, 1381],\n",
              " [926, 2640],\n",
              " [927, 14267],\n",
              " [928, 959],\n",
              " [929, 296],\n",
              " [930, 1907],\n",
              " [931, 8636],\n",
              " [932, 355],\n",
              " [933, 250],\n",
              " [934, 252],\n",
              " [935, 703],\n",
              " [936, 705],\n",
              " [937, 366],\n",
              " [938, 3994],\n",
              " [939, 6221],\n",
              " [940, 7947],\n",
              " [941, 978],\n",
              " [942, 978],\n",
              " [943, 978],\n",
              " [944, 978],\n",
              " [945, 978],\n",
              " [946, 0],\n",
              " [947, 103],\n",
              " [948, 369],\n",
              " [949, 523],\n",
              " [950, 761],\n",
              " [951, 373],\n",
              " [952, 4904],\n",
              " [953, 3848],\n",
              " [954, 6418],\n",
              " [955, 4103],\n",
              " [956, 10391],\n",
              " [957, 118],\n",
              " [958, 4802],\n",
              " [959, 2704],\n",
              " [960, 22900],\n",
              " [961, 11246],\n",
              " [962, 18098],\n",
              " [963, 2938],\n",
              " [964, 9524],\n",
              " [965, 2269],\n",
              " [966, 3724],\n",
              " [967, 6201],\n",
              " [968, 11323],\n",
              " [969, 4295],\n",
              " [970, 1162],\n",
              " [971, 354],\n",
              " [972, 356],\n",
              " [973, 1548],\n",
              " [974, 1323],\n",
              " [975, 98],\n",
              " [976, 3458],\n",
              " [977, 1368],\n",
              " [978, 4311],\n",
              " [979, 5524],\n",
              " [980, 9867],\n",
              " [981, 978],\n",
              " [982, 978],\n",
              " [983, 978],\n",
              " [984, 978],\n",
              " [985, 978],\n",
              " [986, 661],\n",
              " [987, 104],\n",
              " [988, 106],\n",
              " [989, 853],\n",
              " [990, 108],\n",
              " [991, 7],\n",
              " [992, 716],\n",
              " [993, 5278],\n",
              " [994, 8528],\n",
              " [995, 8213],\n",
              " [996, 6237],\n",
              " [997, 5924],\n",
              " [998, 24026],\n",
              " [999, 6251],\n",
              " ...]"
            ]
          },
          "metadata": {
            "tags": []
          },
          "execution_count": 44
        }
      ]
    },
    {
      "cell_type": "code",
      "metadata": {
        "colab": {
          "base_uri": "https://localhost:8080/"
        },
        "id": "-Kc0KaUy8tK9",
        "outputId": "25045885-d1ba-485d-acbe-530606bffb88"
      },
      "source": [
        "Match[0][0], Match[0][1]"
      ],
      "execution_count": null,
      "outputs": [
        {
          "output_type": "execute_result",
          "data": {
            "text/plain": [
              "(0, 978)"
            ]
          },
          "metadata": {
            "tags": []
          },
          "execution_count": 45
        }
      ]
    },
    {
      "cell_type": "code",
      "metadata": {
        "colab": {
          "base_uri": "https://localhost:8080/"
        },
        "id": "pHdqUkXvVFdZ",
        "outputId": "83d9eec3-b364-426e-d723-2bec3f466dac"
      },
      "source": [
        "len(Match)"
      ],
      "execution_count": null,
      "outputs": [
        {
          "output_type": "execute_result",
          "data": {
            "text/plain": [
              "9176"
            ]
          },
          "metadata": {
            "tags": []
          },
          "execution_count": 46
        }
      ]
    },
    {
      "cell_type": "code",
      "metadata": {
        "id": "MZ_nOSO2Se4S"
      },
      "source": [
        "initial_error = 0\n",
        "for i in range(len(Match)):\n",
        "  initial_error += np.linalg.norm((sub_d455_data[:,i] - sub_l515_data[:,Match[i][1]]))"
      ],
      "execution_count": null,
      "outputs": []
    },
    {
      "cell_type": "code",
      "metadata": {
        "colab": {
          "base_uri": "https://localhost:8080/"
        },
        "id": "8E0VhIrCWLeQ",
        "outputId": "f75f387c-8db3-4f82-e5f2-7ae14fff52e4"
      },
      "source": [
        "initial_error"
      ],
      "execution_count": null,
      "outputs": [
        {
          "output_type": "execute_result",
          "data": {
            "text/plain": [
              "5220.25972347433"
            ]
          },
          "metadata": {
            "tags": []
          },
          "execution_count": 48
        }
      ]
    },
    {
      "cell_type": "markdown",
      "metadata": {
        "id": "uJOMuBqjWOu4"
      },
      "source": [
        "Calculate transformation"
      ]
    },
    {
      "cell_type": "code",
      "metadata": {
        "colab": {
          "base_uri": "https://localhost:8080/"
        },
        "id": "vNDMvevzWNBn",
        "outputId": "f1607da7-ed20-478e-8654-d7f49e7f6502"
      },
      "source": [
        "mean_p_x, mean_p_y, mean_p_z = 0.0, 0.0, 0.0\n",
        "for i in range(len(sub_d455_data[0])):\n",
        "  temp = sub_d455_data[:,i]\n",
        "  mean_p_x += temp[0]/len(sub_d455_data[0])\n",
        "  mean_p_y += temp[1]/len(sub_d455_data[0])\n",
        "  mean_p_z += temp[1]/len(sub_d455_data[0])\n",
        "\n",
        "mean_p = np.array([[mean_p_x],\n",
        "                  [mean_p_y],\n",
        "                  [mean_p_z]])\n",
        "mean_p"
      ],
      "execution_count": null,
      "outputs": [
        {
          "output_type": "execute_result",
          "data": {
            "text/plain": [
              "array([[-0.07718891],\n",
              "       [ 0.1136729 ],\n",
              "       [ 0.1136729 ]])"
            ]
          },
          "metadata": {
            "tags": []
          },
          "execution_count": 49
        }
      ]
    },
    {
      "cell_type": "code",
      "metadata": {
        "colab": {
          "base_uri": "https://localhost:8080/"
        },
        "id": "hhkC2FphXbq0",
        "outputId": "ddcb6b93-04c8-465d-8c3e-6f6569cb5ab6"
      },
      "source": [
        "mean_q_x, mean_q_y, mean_q_z = 0.0, 0.0, 0.0\n",
        "for i in range(len(sub_l515_data[0])):\n",
        "  temp = sub_l515_data[:,i]\n",
        "  mean_q_x += temp[0]/len(sub_l515_data[0])\n",
        "  mean_q_y += temp[1]/len(sub_l515_data[0])\n",
        "  mean_q_z += temp[1]/len(sub_l515_data[0])\n",
        "\n",
        "mean_q = np.array([[mean_q_x],\n",
        "                   [mean_q_y],\n",
        "                   [mean_q_z]])\n",
        "mean_q"
      ],
      "execution_count": null,
      "outputs": [
        {
          "output_type": "execute_result",
          "data": {
            "text/plain": [
              "array([[0.0219483 ],\n",
              "       [0.11306869],\n",
              "       [0.11306869]])"
            ]
          },
          "metadata": {
            "tags": []
          },
          "execution_count": 50
        }
      ]
    },
    {
      "cell_type": "code",
      "metadata": {
        "colab": {
          "base_uri": "https://localhost:8080/"
        },
        "id": "Rs4Jk_PHZe_T",
        "outputId": "9a342be5-3c86-432a-b6ab-fa069e314e4c"
      },
      "source": [
        "H_matrix = np.array([[0.0, 0.0, 0.0],\n",
        "                     [0.0, 0.0, 0.0],\n",
        "                     [0.0, 0.0, 0.0]])\n",
        "for i in range(len(Match)):\n",
        "  p = sub_d455_data[:,0]\n",
        "  p_matrix = np.array([[p[0] - mean_p_x],\n",
        "                       [p[1] - mean_p_y],\n",
        "                       [p[2] - mean_p_z]])\n",
        "  q = sub_l515_data[:,Match[i][1]]\n",
        "  q_matrix = np.array([q[0] - mean_q_x, q[1] - mean_q_y, q[2] - mean_q_z])\n",
        "  q_matrix = q_matrix.reshape(1,3)\n",
        "  temp_matrix = np.matmul(p_matrix, q_matrix)\n",
        "  H_matrix += temp_matrix\n",
        "\n",
        "H_matrix"
      ],
      "execution_count": null,
      "outputs": [
        {
          "output_type": "execute_result",
          "data": {
            "text/plain": [
              "array([[  1443.51112966,  -4431.42782799,  21074.84288681],\n",
              "       [  -822.62469602,   2525.37157148, -12010.08143775],\n",
              "       [  1733.59574252,  -5321.95717652,  25309.99391147]])"
            ]
          },
          "metadata": {
            "tags": []
          },
          "execution_count": 51
        }
      ]
    },
    {
      "cell_type": "code",
      "metadata": {
        "id": "4WOyYtnscLw6"
      },
      "source": [
        "u, s, vh = np.linalg.svd(H_matrix)"
      ],
      "execution_count": null,
      "outputs": []
    },
    {
      "cell_type": "code",
      "metadata": {
        "colab": {
          "base_uri": "https://localhost:8080/"
        },
        "id": "bHqBCH0_hF-q",
        "outputId": "fcd6f219-fe92-40f2-f9a8-dad255a2fdd1"
      },
      "source": [
        "u.shape, vh.shape"
      ],
      "execution_count": null,
      "outputs": [
        {
          "output_type": "execute_result",
          "data": {
            "text/plain": [
              "((3, 3), (3, 3))"
            ]
          },
          "metadata": {
            "tags": []
          },
          "execution_count": 53
        }
      ]
    },
    {
      "cell_type": "code",
      "metadata": {
        "colab": {
          "base_uri": "https://localhost:8080/"
        },
        "id": "8T-PpBYBgzhP",
        "outputId": "4a5ffefd-5396-4cd3-b931-3a1f4e9cdf30"
      },
      "source": [
        "rotation_matrix = np.matmul(vh.transpose(), u.transpose())\n",
        "rotation_matrix"
      ],
      "execution_count": null,
      "outputs": [
        {
          "output_type": "execute_result",
          "data": {
            "text/plain": [
              "array([[ 0.54868337,  0.83541066,  0.03218072],\n",
              "       [-0.71878215,  0.45172611,  0.52848438],\n",
              "       [ 0.42696462, -0.31310151,  0.84833287]])"
            ]
          },
          "metadata": {
            "tags": []
          },
          "execution_count": 54
        }
      ]
    },
    {
      "cell_type": "code",
      "metadata": {
        "colab": {
          "base_uri": "https://localhost:8080/"
        },
        "id": "TKlvxpkShENg",
        "outputId": "a14db9cf-d61f-43f2-9a74-ce4405d8b187"
      },
      "source": [
        "translation_matrix = mean_q - np.matmul(rotation_matrix, mean_p)\n",
        "translation_matrix"
      ],
      "execution_count": null,
      "outputs": [
        {
          "output_type": "execute_result",
          "data": {
            "text/plain": [
              "array([[-0.03432106],\n",
              "       [-0.05383669],\n",
              "       [ 0.08518432]])"
            ]
          },
          "metadata": {
            "tags": []
          },
          "execution_count": 55
        }
      ]
    },
    {
      "cell_type": "code",
      "metadata": {
        "colab": {
          "base_uri": "https://localhost:8080/"
        },
        "id": "akAyX3CKr_dL",
        "outputId": "d03d1e0a-e774-4a4e-aef9-44604974d5ff"
      },
      "source": [
        "mean_q - mean_p"
      ],
      "execution_count": null,
      "outputs": [
        {
          "output_type": "execute_result",
          "data": {
            "text/plain": [
              "array([[ 0.09913721],\n",
              "       [-0.00060422],\n",
              "       [-0.00060422]])"
            ]
          },
          "metadata": {
            "tags": []
          },
          "execution_count": 60
        }
      ]
    },
    {
      "cell_type": "markdown",
      "metadata": {
        "id": "PCS30dYziOWO"
      },
      "source": [
        "Applying rotation to all p vectors"
      ]
    },
    {
      "cell_type": "code",
      "metadata": {
        "id": "RV6mybkHiVSc"
      },
      "source": [
        "sub_d455_data_new = np.matmul(rotation_matrix, sub_d455_data)"
      ],
      "execution_count": null,
      "outputs": []
    },
    {
      "cell_type": "markdown",
      "metadata": {
        "id": "Qvm5HThOio_f"
      },
      "source": [
        "Applying translation to all data"
      ]
    },
    {
      "cell_type": "code",
      "metadata": {
        "id": "ytuXZIKKi1hI"
      },
      "source": [
        "for i in range(len(sub_d455_data_new[0])):\n",
        "  temp = sub_d455_data_new[:,i].reshape(3,1) + translation_matrix\n",
        "  sub_d455_data_new[0:3,i] = temp[0][0], temp[1][0], temp[2][0]"
      ],
      "execution_count": null,
      "outputs": []
    },
    {
      "cell_type": "code",
      "metadata": {
        "colab": {
          "base_uri": "https://localhost:8080/"
        },
        "id": "BKk4Fb_Vk-Yq",
        "outputId": "352f1813-ed4b-4fed-af02-24e4c013926b"
      },
      "source": [
        "sub_d455_data_new"
      ],
      "execution_count": null,
      "outputs": [
        {
          "output_type": "execute_result",
          "data": {
            "text/plain": [
              "array([[-0.16480252, -0.11648301, -0.06746595, ..., -0.06267787,\n",
              "        -0.02536223, -0.00959273],\n",
              "       [ 0.68637412,  0.62814872,  0.57715619, ..., -0.9258412 ,\n",
              "        -0.94227992, -0.96922023],\n",
              "       [-2.61343901, -2.59972239, -2.62046737, ..., -0.11012545,\n",
              "        -0.07482355, -0.06381954]])"
            ]
          },
          "metadata": {
            "tags": []
          },
          "execution_count": 58
        }
      ]
    },
    {
      "cell_type": "markdown",
      "metadata": {
        "id": "7vzzFoGOiJ1T"
      },
      "source": [
        "# Transformation 2"
      ]
    },
    {
      "cell_type": "code",
      "metadata": {
        "id": "R6yD2sYJh58J"
      },
      "source": [
        "new_match = matching(sub_d455_data_new, sub_l515_data)"
      ],
      "execution_count": null,
      "outputs": []
    },
    {
      "cell_type": "code",
      "metadata": {
        "colab": {
          "base_uri": "https://localhost:8080/"
        },
        "id": "3Js2Mh02lJiT",
        "outputId": "a498b178-45bf-42f4-e362-abe10ccff797"
      },
      "source": [
        "error1 = 0\n",
        "for i in range(len(new_match)):\n",
        "  error1 += np.linalg.norm((sub_d455_data_new[:,i] - sub_l515_data[:,new_match[i][1]]))\n",
        "\n",
        "error1"
      ],
      "execution_count": null,
      "outputs": [
        {
          "output_type": "execute_result",
          "data": {
            "text/plain": [
              "10475.985535297626"
            ]
          },
          "metadata": {
            "tags": []
          },
          "execution_count": 62
        }
      ]
    },
    {
      "cell_type": "code",
      "metadata": {
        "colab": {
          "base_uri": "https://localhost:8080/"
        },
        "id": "C_poc6HF6gLr",
        "outputId": "08b7a2cd-1e16-4058-f2f9-3d70a2caae14"
      },
      "source": [
        "mean_p += translation_matrix\n",
        "mean_p"
      ],
      "execution_count": null,
      "outputs": [
        {
          "output_type": "execute_result",
          "data": {
            "text/plain": [
              "array([[-0.11150997],\n",
              "       [ 0.05983621],\n",
              "       [ 0.19885722]])"
            ]
          },
          "metadata": {
            "tags": []
          },
          "execution_count": 63
        }
      ]
    },
    {
      "cell_type": "code",
      "metadata": {
        "colab": {
          "base_uri": "https://localhost:8080/"
        },
        "id": "v8MuYePj7NOC",
        "outputId": "dcdc4e6c-e39d-466c-df59-5f69e151a26d"
      },
      "source": [
        "H_matrix = np.array([[0.0, 0.0, 0.0],\n",
        "                     [0.0, 0.0, 0.0],\n",
        "                     [0.0, 0.0, 0.0]])\n",
        "for i in range(len(new_match)):\n",
        "  p = sub_d455_data_new[:,0]\n",
        "  p_matrix = np.array([[p[0] - mean_p_x],\n",
        "                       [p[1] - mean_p_y],\n",
        "                       [p[2] - mean_p_z]])\n",
        "  q = sub_l515_data[:,Match[i][1]]\n",
        "  q_matrix = np.array([q[0] - mean_q_x, q[1] - mean_q_y, q[2] - mean_q_z])\n",
        "  q_matrix = q_matrix.reshape(1,3)\n",
        "  temp_matrix = np.matmul(p_matrix, q_matrix)\n",
        "  H_matrix += temp_matrix\n",
        "\n",
        "H_matrix"
      ],
      "execution_count": null,
      "outputs": [
        {
          "output_type": "execute_result",
          "data": {
            "text/plain": [
              "array([[   75.34008688,  -231.28616793,  1099.9433682 ],\n",
              "       [ -492.47323803,  1511.84120906, -7189.96612094],\n",
              "       [ 2345.07903837, -7199.14678588, 34237.47228222]])"
            ]
          },
          "metadata": {
            "tags": []
          },
          "execution_count": 64
        }
      ]
    },
    {
      "cell_type": "code",
      "metadata": {
        "id": "Ya3UGB4S7wCe"
      },
      "source": [
        "u, s, vh = np.linalg.svd(H_matrix)"
      ],
      "execution_count": null,
      "outputs": []
    },
    {
      "cell_type": "code",
      "metadata": {
        "colab": {
          "base_uri": "https://localhost:8080/"
        },
        "id": "8sDgTua3700N",
        "outputId": "014d4df2-9b01-43e0-8520-f45e53e5fd04"
      },
      "source": [
        "rotation_matrix = np.matmul(vh.transpose(), u.transpose())\n",
        "rotation_matrix"
      ],
      "execution_count": null,
      "outputs": [
        {
          "output_type": "execute_result",
          "data": {
            "text/plain": [
              "array([[-0.93238657,  0.32120452,  0.16577978],\n",
              "       [ 0.32221798,  0.94642148, -0.02149322],\n",
              "       [ 0.16380126, -0.03337724,  0.98592855]])"
            ]
          },
          "metadata": {
            "tags": []
          },
          "execution_count": 66
        }
      ]
    },
    {
      "cell_type": "code",
      "metadata": {
        "colab": {
          "base_uri": "https://localhost:8080/"
        },
        "id": "jT82zhH274dG",
        "outputId": "a53098e1-468a-4464-e6dd-25e1f3cbf751"
      },
      "source": [
        "translation_matrix = mean_q - np.matmul(rotation_matrix, mean_p)\n",
        "translation_matrix"
      ],
      "execution_count": null,
      "outputs": [
        {
          "output_type": "execute_result",
          "data": {
            "text/plain": [
              "array([[-0.13420826],\n",
              "       [ 0.09664301],\n",
              "       [-0.06272768]])"
            ]
          },
          "metadata": {
            "tags": []
          },
          "execution_count": 67
        }
      ]
    },
    {
      "cell_type": "code",
      "metadata": {
        "id": "JVvdZBvH7_zH"
      },
      "source": [
        "sub_d455_data_new = np.matmul(rotation_matrix, sub_d455_data)"
      ],
      "execution_count": null,
      "outputs": []
    },
    {
      "cell_type": "code",
      "metadata": {
        "id": "s1KKpb498Cl2"
      },
      "source": [
        "for i in range(len(sub_d455_data_new[0])):\n",
        "  temp = sub_d455_data_new[:,i].reshape(3,1) + translation_matrix\n",
        "  sub_d455_data_new[0:3,i] = temp[0][0], temp[1][0], temp[2][0]"
      ],
      "execution_count": null,
      "outputs": []
    },
    {
      "cell_type": "code",
      "metadata": {
        "colab": {
          "base_uri": "https://localhost:8080/"
        },
        "id": "3x9RdpVD8FMP",
        "outputId": "d4be93ca-809c-4863-de1b-d4ae3dfcdba6"
      },
      "source": [
        "sub_d455_data_new"
      ],
      "execution_count": null,
      "outputs": [
        {
          "output_type": "execute_result",
          "data": {
            "text/plain": [
              "array([[ 1.53135093,  1.46237296,  1.41209778, ..., -0.84486051,\n",
              "        -0.88121986, -0.91323555],\n",
              "       [ 0.58472514,  0.61826454,  0.65991236, ..., -0.0571415 ,\n",
              "        -0.03034823, -0.02202262],\n",
              "       [-2.26163508, -2.26713647, -2.30135826, ..., -0.58298298,\n",
              "        -0.55350364, -0.55239657]])"
            ]
          },
          "metadata": {
            "tags": []
          },
          "execution_count": 70
        }
      ]
    }
  ]
}