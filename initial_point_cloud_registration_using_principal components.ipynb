{
 "cells": [
  {
   "cell_type": "markdown",
   "metadata": {},
   "source": [
    "When point cloud of both are available and there are no missing point clouds, we can use principal components to approximately align two point clouds"
   ]
  },
  {
   "cell_type": "markdown",
   "metadata": {},
   "source": [
    "# Part 1: Reading point cloud in dictionary, applying known arbitrary rotation and translation to the point cloud and saving it in another dictionary"
   ]
  },
  {
   "cell_type": "code",
   "execution_count": 1,
   "metadata": {},
   "outputs": [],
   "source": [
    "file_name = \"Part1_STL_10_pow_4_ASCII.txt\""
   ]
  },
  {
   "cell_type": "code",
   "execution_count": 2,
   "metadata": {},
   "outputs": [],
   "source": [
    "with open(file_name) as file_object:\n",
    "    lines = file_object.readlines()"
   ]
  },
  {
   "cell_type": "code",
   "execution_count": 3,
   "metadata": {},
   "outputs": [],
   "source": [
    "data = {}"
   ]
  },
  {
   "cell_type": "code",
   "execution_count": 4,
   "metadata": {},
   "outputs": [],
   "source": [
    "i = 1\n",
    "for line in lines:\n",
    "    items = line.split(\",\")\n",
    "    x, y, z = float(items[0]), float(items[1]), float(items[2])\n",
    "    list_x_y_z = [x, y, z]\n",
    "    data[i] = list_x_y_z\n",
    "    i+=1"
   ]
  },
  {
   "cell_type": "code",
   "execution_count": 5,
   "metadata": {},
   "outputs": [
    {
     "data": {
      "text/plain": [
       "[0.97175932, 0.27299145, 0.60483378]"
      ]
     },
     "execution_count": 5,
     "metadata": {},
     "output_type": "execute_result"
    }
   ],
   "source": [
    "data[1]"
   ]
  },
  {
   "cell_type": "code",
   "execution_count": 6,
   "metadata": {},
   "outputs": [
    {
     "data": {
      "text/plain": [
       "10029"
      ]
     },
     "execution_count": 6,
     "metadata": {},
     "output_type": "execute_result"
    }
   ],
   "source": [
    "len(data)"
   ]
  },
  {
   "cell_type": "code",
   "execution_count": 7,
   "metadata": {},
   "outputs": [
    {
     "data": {
      "text/plain": [
       "[0.91336119, 0.46265504, 0.37359932]"
      ]
     },
     "execution_count": 7,
     "metadata": {},
     "output_type": "execute_result"
    }
   ],
   "source": [
    "data[10029]"
   ]
  },
  {
   "cell_type": "markdown",
   "metadata": {},
   "source": [
    "Applying translation"
   ]
  },
  {
   "cell_type": "code",
   "execution_count": 8,
   "metadata": {},
   "outputs": [],
   "source": [
    "transformed_data = {}"
   ]
  },
  {
   "cell_type": "code",
   "execution_count": 9,
   "metadata": {},
   "outputs": [],
   "source": [
    "tx, ty, tz = 1.0, 2.0, 3.0"
   ]
  },
  {
   "cell_type": "code",
   "execution_count": 10,
   "metadata": {},
   "outputs": [],
   "source": [
    "for key, value in data.items():\n",
    "    transformed_data[key] = [value[0]+tx, value[1]+ty, value[2]+tz]    "
   ]
  },
  {
   "cell_type": "code",
   "execution_count": 11,
   "metadata": {},
   "outputs": [
    {
     "data": {
      "text/plain": [
       "[1.9717593199999999, 2.27299145, 3.60483378]"
      ]
     },
     "execution_count": 11,
     "metadata": {},
     "output_type": "execute_result"
    }
   ],
   "source": [
    "transformed_data[1]"
   ]
  },
  {
   "cell_type": "code",
   "execution_count": 12,
   "metadata": {},
   "outputs": [
    {
     "data": {
      "text/plain": [
       "[1.91336119, 2.46265504, 3.37359932]"
      ]
     },
     "execution_count": 12,
     "metadata": {},
     "output_type": "execute_result"
    }
   ],
   "source": [
    "transformed_data[10029]"
   ]
  },
  {
   "cell_type": "markdown",
   "metadata": {},
   "source": [
    "Applying rotation of 45 degress along z-axis of coordinate frame, just to keep it simple."
   ]
  },
  {
   "cell_type": "code",
   "execution_count": 13,
   "metadata": {},
   "outputs": [],
   "source": [
    "rotation_z = [[0.717, -0.717, 0],\n",
    "             [0.717, 0.717, 0],\n",
    "             [0, 0, 1]]"
   ]
  },
  {
   "cell_type": "code",
   "execution_count": 16,
   "metadata": {},
   "outputs": [],
   "source": [
    "for key, value in transformed_data.items():\n",
    "    transformed_data[key] = [rotation_z[0][0]*value[0] + rotation_z[0][1]*value[1] + rotation_z[0][2]*value[2],\n",
    "                            rotation_z[1][0]*value[0] + rotation_z[1][1]*value[1] + rotation_z[1][2]*value[2],\n",
    "                            rotation_z[2][0]*value[0] + rotation_z[2][1]*value[1] + rotation_z[2][2]*value[2]]"
   ]
  },
  {
   "cell_type": "code",
   "execution_count": 17,
   "metadata": {},
   "outputs": [
    {
     "data": {
      "text/plain": [
       "[-0.21598343721000024, 3.04348630209, 3.60483378]"
      ]
     },
     "execution_count": 17,
     "metadata": {},
     "output_type": "execute_result"
    }
   ],
   "source": [
    "transformed_data[1]"
   ]
  },
  {
   "cell_type": "code",
   "execution_count": 18,
   "metadata": {},
   "outputs": [
    {
     "data": {
      "text/plain": [
       "[-0.39384369045, 3.1376036369099998, 3.37359932]"
      ]
     },
     "execution_count": 18,
     "metadata": {},
     "output_type": "execute_result"
    }
   ],
   "source": [
    "transformed_data[10029]"
   ]
  },
  {
   "cell_type": "markdown",
   "metadata": {},
   "source": [
    "Original and transformed data visualization"
   ]
  },
  {
   "cell_type": "code",
   "execution_count": 19,
   "metadata": {},
   "outputs": [],
   "source": [
    "import numpy as np\n",
    "import ipyvolume as ipv"
   ]
  },
  {
   "cell_type": "code",
   "execution_count": 20,
   "metadata": {},
   "outputs": [],
   "source": [
    "x, y, z = np.empty(0), np.empty(0), np.empty(0)"
   ]
  },
  {
   "cell_type": "code",
   "execution_count": 21,
   "metadata": {},
   "outputs": [],
   "source": [
    "for key, value in data.items():\n",
    "        x = np.append(x, value[0])\n",
    "        y = np.append(y, value[1])\n",
    "        z = np.append(z, value[2])"
   ]
  },
  {
   "cell_type": "code",
   "execution_count": 23,
   "metadata": {},
   "outputs": [],
   "source": [
    "x1, y1, z1 = np.empty(0), np.empty(0), np.empty(0)"
   ]
  },
  {
   "cell_type": "code",
   "execution_count": 24,
   "metadata": {},
   "outputs": [],
   "source": [
    "for key, value in transformed_data.items():\n",
    "        x1 = np.append(x1, value[0])\n",
    "        y1 = np.append(y1, value[1])\n",
    "        z1 = np.append(z1, value[2])"
   ]
  },
  {
   "cell_type": "code",
   "execution_count": 25,
   "metadata": {},
   "outputs": [
    {
     "data": {
      "application/vnd.jupyter.widget-view+json": {
       "model_id": "f204e5737dcb4a0b88d79dbfcd37243e",
       "version_major": 2,
       "version_minor": 0
      },
      "text/plain": [
       "VBox(children=(Figure(camera=PerspectiveCamera(fov=45.0, position=(0.0, 0.0, 2.0), projectionMatrix=(1.0, 0.0,…"
      ]
     },
     "metadata": {},
     "output_type": "display_data"
    }
   ],
   "source": [
    "fig = ipv.figure()\n",
    "scatter = ipv.scatter(x, y, z, color = 'red', size=0.75, marker='sphere')\n",
    "scatter1 = ipv.scatter(x1, y1, z1, color = 'blue', size=0.75, marker='sphere')\n",
    "ipv.show()"
   ]
  },
  {
   "cell_type": "markdown",
   "metadata": {},
   "source": [
    "The red is reference point cloud and blue is transformed point cloud."
   ]
  },
  {
   "cell_type": "markdown",
   "metadata": {},
   "source": [
    "# Part 2: Calculate mean of both point clouds and align the mean point, this should equal the translation part of translation and rotation combined"
   ]
  },
  {
   "cell_type": "code",
   "execution_count": 26,
   "metadata": {},
   "outputs": [],
   "source": [
    "mean_x, mean_y, mean_z = 0.0, 0.0, 0.0\n",
    "mean_x1, mean_y1, mean_z1 = 0.0, 0.0, 0.0"
   ]
  },
  {
   "cell_type": "code",
   "execution_count": 27,
   "metadata": {},
   "outputs": [],
   "source": [
    "for key, value in data.items():\n",
    "    mean_x += value[0]\n",
    "    mean_y += value[1]\n",
    "    mean_z += value[2]\n",
    "    \n",
    "mean_x = mean_x / len(data)\n",
    "mean_y = mean_y / len(data)\n",
    "mean_z = mean_z / len(data)"
   ]
  },
  {
   "cell_type": "code",
   "execution_count": 28,
   "metadata": {},
   "outputs": [
    {
     "data": {
      "text/plain": [
       "0.677856793295442"
      ]
     },
     "execution_count": 28,
     "metadata": {},
     "output_type": "execute_result"
    }
   ],
   "source": [
    "mean_x"
   ]
  },
  {
   "cell_type": "code",
   "execution_count": 29,
   "metadata": {},
   "outputs": [],
   "source": [
    "for key, value in transformed_data.items():\n",
    "    mean_x1 += value[0]\n",
    "    mean_y1 += value[1]\n",
    "    mean_z1 += value[2]\n",
    "    \n",
    "mean_x1 = mean_x1 / len(data)\n",
    "mean_y1 = mean_y1 / len(data)\n",
    "mean_z1 = mean_z1 / len(data)"
   ]
  },
  {
   "cell_type": "code",
   "execution_count": 30,
   "metadata": {},
   "outputs": [
    {
     "data": {
      "text/plain": [
       "-0.383403964464602"
      ]
     },
     "execution_count": 30,
     "metadata": {},
     "output_type": "execute_result"
    }
   ],
   "source": [
    "mean_x1"
   ]
  },
  {
   "cell_type": "code",
   "execution_count": 32,
   "metadata": {},
   "outputs": [
    {
     "data": {
      "text/plain": [
       "[1.061260757760044, -2.576860250042692, -3.000000000000017]"
      ]
     },
     "execution_count": 32,
     "metadata": {},
     "output_type": "execute_result"
    }
   ],
   "source": [
    "translation = [mean_x - mean_x1, mean_y - mean_y1, mean_z - mean_z1]\n",
    "translation"
   ]
  },
  {
   "cell_type": "code",
   "execution_count": 33,
   "metadata": {},
   "outputs": [],
   "source": [
    "for key, value in transformed_data.items():\n",
    "    value[0] = value[0] + translation[0]\n",
    "    value[1] = value[1] + translation[1]\n",
    "    value[2] = value[2] + translation[2]"
   ]
  },
  {
   "cell_type": "markdown",
   "metadata": {},
   "source": [
    "data visualization"
   ]
  },
  {
   "cell_type": "code",
   "execution_count": 34,
   "metadata": {},
   "outputs": [],
   "source": [
    "x, y, z = np.empty(0), np.empty(0), np.empty(0)\n",
    "for key, value in data.items():\n",
    "        x = np.append(x, value[0])\n",
    "        y = np.append(y, value[1])\n",
    "        z = np.append(z, value[2])"
   ]
  },
  {
   "cell_type": "code",
   "execution_count": 35,
   "metadata": {},
   "outputs": [],
   "source": [
    "x1, y1, z1 = np.empty(0), np.empty(0), np.empty(0)\n",
    "for key, value in transformed_data.items():\n",
    "        x1 = np.append(x1, value[0])\n",
    "        y1 = np.append(y1, value[1])\n",
    "        z1 = np.append(z1, value[2])"
   ]
  },
  {
   "cell_type": "code",
   "execution_count": 36,
   "metadata": {},
   "outputs": [
    {
     "data": {
      "application/vnd.jupyter.widget-view+json": {
       "model_id": "24a013753038474cbc34ad65968f863c",
       "version_major": 2,
       "version_minor": 0
      },
      "text/plain": [
       "VBox(children=(Figure(camera=PerspectiveCamera(fov=45.0, position=(0.0, 0.0, 2.0), projectionMatrix=(1.0, 0.0,…"
      ]
     },
     "metadata": {},
     "output_type": "display_data"
    }
   ],
   "source": [
    "fig = ipv.figure()\n",
    "scatter = ipv.scatter(x, y, z, color = 'red', size=0.75, marker='sphere')\n",
    "scatter1 = ipv.scatter(x1, y1, z1, color = 'blue', size=0.75, marker='sphere')\n",
    "ipv.show()"
   ]
  },
  {
   "cell_type": "markdown",
   "metadata": {},
   "source": [
    "The mean method seems to work."
   ]
  },
  {
   "cell_type": "markdown",
   "metadata": {},
   "source": [
    "# Part 3: Compute eigen values and eigen vectors of both the point clouds using covariance matrix of point clouds"
   ]
  },
  {
   "cell_type": "code",
   "execution_count": 38,
   "metadata": {},
   "outputs": [],
   "source": [
    "covariance_matrix = np.zeros((3,3))\n",
    "cov_x_x, cov_y_y, cov_z_z, cov_x_y, cov_x_z, cov_y_z = 0.0, 0.0, 0.0, 0.0, 0.0, 0.0\n",
    "len_data = len(data)\n",
    "for key, value in data.items():\n",
    "    cov_x_x += (value[0] - mean_x)**2 / (len_data - 1)\n",
    "    cov_y_y += (value[1] - mean_y)**2 / (len_data - 1)\n",
    "    cov_z_z += (value[2] - mean_z)**2 / (len_data - 1)\n",
    "    cov_x_y += (value[0] - mean_x)*(value[1] - mean_y) / (len_data - 1)\n",
    "    cov_x_z += (value[0] - mean_x)*(value[2] - mean_z) / (len_data - 1)\n",
    "    cov_y_z += (value[1] - mean_y)*(value[2] - mean_z) / (len_data - 1)\n",
    "            \n",
    "covariance_matrix[0,0] = cov_x_x\n",
    "covariance_matrix[1,1] = cov_y_y\n",
    "covariance_matrix[2,2] = cov_z_z\n",
    "covariance_matrix[0,1] = cov_x_y\n",
    "covariance_matrix[1,0] = cov_x_y\n",
    "covariance_matrix[0,2] = cov_x_z\n",
    "covariance_matrix[2,0] = cov_x_z\n",
    "covariance_matrix[1,2] = cov_y_z\n",
    "covariance_matrix[2,1] = cov_y_z"
   ]
  },
  {
   "cell_type": "code",
   "execution_count": 39,
   "metadata": {},
   "outputs": [],
   "source": [
    "eigenValue, eigenVector = np.linalg.eig(covariance_matrix)"
   ]
  },
  {
   "cell_type": "code",
   "execution_count": 41,
   "metadata": {},
   "outputs": [
    {
     "data": {
      "text/plain": [
       "(array([0.08824332, 0.00929945, 0.001606  ]),\n",
       " array([[-0.81375597, -0.41443035, -0.40749074],\n",
       "        [-0.56384187,  0.39281401,  0.72648434],\n",
       "        [ 0.14100909, -0.82094131,  0.55332793]]))"
      ]
     },
     "execution_count": 41,
     "metadata": {},
     "output_type": "execute_result"
    }
   ],
   "source": [
    "eigenValue, eigenVector"
   ]
  },
  {
   "cell_type": "code",
   "execution_count": 42,
   "metadata": {},
   "outputs": [],
   "source": [
    "covariance_matrix1 = np.zeros((3,3))\n",
    "cov_x_x1, cov_y_y1, cov_z_z1, cov_x_y1, cov_x_z1, cov_y_z1 = 0.0, 0.0, 0.0, 0.0, 0.0, 0.0\n",
    "len_data = len(transformed_data)\n",
    "for key, value in transformed_data.items():\n",
    "    cov_x_x1 += (value[0] - mean_x)**2 / (len_data - 1)\n",
    "    cov_y_y1 += (value[1] - mean_y)**2 / (len_data - 1)\n",
    "    cov_z_z1 += (value[2] - mean_z)**2 / (len_data - 1)\n",
    "    cov_x_y1 += (value[0] - mean_x)*(value[1] - mean_y) / (len_data - 1)\n",
    "    cov_x_z1 += (value[0] - mean_x)*(value[2] - mean_z) / (len_data - 1)\n",
    "    cov_y_z1 += (value[1] - mean_y)*(value[2] - mean_z) / (len_data - 1)\n",
    "            \n",
    "covariance_matrix1[0,0] = cov_x_x1\n",
    "covariance_matrix1[1,1] = cov_y_y1\n",
    "covariance_matrix1[2,2] = cov_z_z1\n",
    "covariance_matrix1[0,1] = cov_x_y1\n",
    "covariance_matrix1[1,0] = cov_x_y1\n",
    "covariance_matrix1[0,2] = cov_x_z1\n",
    "covariance_matrix1[2,0] = cov_x_z1\n",
    "covariance_matrix1[1,2] = cov_y_z1\n",
    "covariance_matrix1[2,1] = cov_y_z1"
   ]
  },
  {
   "cell_type": "code",
   "execution_count": 43,
   "metadata": {},
   "outputs": [
    {
     "data": {
      "text/plain": [
       "(array([0.09068051, 0.00163708, 0.0093851 ]),\n",
       " array([[-0.17694516, -0.79687337,  0.57765323],\n",
       "        [-0.97438762,  0.22458847,  0.01134833],\n",
       "        [ 0.13877743,  0.56085012,  0.81620339]]))"
      ]
     },
     "execution_count": 43,
     "metadata": {},
     "output_type": "execute_result"
    }
   ],
   "source": [
    "eigenValue1, eigenVector1 = np.linalg.eig(covariance_matrix1)\n",
    "eigenValue1, eigenVector1"
   ]
  },
  {
   "cell_type": "markdown",
   "metadata": {},
   "source": [
    "# Part 4: Align the point clouds using eigen vectors"
   ]
  },
  {
   "cell_type": "code",
   "execution_count": null,
   "metadata": {},
   "outputs": [],
   "source": []
  }
 ],
 "metadata": {
  "kernelspec": {
   "display_name": "Python 3",
   "language": "python",
   "name": "python3"
  },
  "language_info": {
   "codemirror_mode": {
    "name": "ipython",
    "version": 3
   },
   "file_extension": ".py",
   "mimetype": "text/x-python",
   "name": "python",
   "nbconvert_exporter": "python",
   "pygments_lexer": "ipython3",
   "version": "3.8.5"
  }
 },
 "nbformat": 4,
 "nbformat_minor": 4
}
